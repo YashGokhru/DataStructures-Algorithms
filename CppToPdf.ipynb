{
 "cells": [
  {
   "cell_type": "code",
   "execution_count": 23,
   "metadata": {},
   "outputs": [
    {
     "name": "stderr",
     "output_type": "stream",
     "text": [
      "C:\\Users\\HP\\AppData\\Local\\Temp\\ipykernel_6772\\572023812.py:29: DeprecationWarning: \"uni\" parameter is deprecated since v2.5.1, unused and will soon be removed\n",
      "  pdf.add_font(\"FreeSans\", '', 'FreeSans.otf', uni=True)\n",
      "C:\\Users\\HP\\AppData\\Local\\Temp\\ipykernel_6772\\572023812.py:30: DeprecationWarning: \"uni\" parameter is deprecated since v2.5.1, unused and will soon be removed\n",
      "  pdf.add_font(\"FreeSans\", 'B', 'FreeSansBold.otf', uni=True)\n",
      "C:\\Users\\HP\\AppData\\Local\\Temp\\ipykernel_6772\\572023812.py:31: DeprecationWarning: \"uni\" parameter is deprecated since v2.5.1, unused and will soon be removed\n",
      "  pdf.add_font(\"FreeSans\", 'I', 'FreeSansOblique.otf', uni=True)\n",
      "C:\\Users\\HP\\AppData\\Local\\Temp\\ipykernel_6772\\572023812.py:32: DeprecationWarning: \"uni\" parameter is deprecated since v2.5.1, unused and will soon be removed\n",
      "  pdf.add_font(\"FreeSans\", 'BI', 'FreeSansBoldOblique.otf', uni=True)\n",
      "C:\\Users\\HP\\AppData\\Local\\Temp\\ipykernel_6772\\572023812.py:11: DeprecationWarning: The parameter \"ln\" is deprecated since v2.5.2. Instead of ln=1 use new_x=XPos.LMARGIN, new_y=YPos.NEXT.\n",
      "  self.cell(0, 10, \"C++ Source Code\", 0, 1, 'C')\n",
      "C:\\Users\\HP\\AppData\\Local\\Temp\\ipykernel_6772\\572023812.py:47: DeprecationWarning: The parameter \"ln\" is deprecated since v2.5.2. Instead of ln=True use new_x=XPos.LMARGIN, new_y=YPos.NEXT.\n",
      "  pdf.cell(0, 10, line, ln=True)\n",
      "C:\\Users\\HP\\AppData\\Local\\Temp\\ipykernel_6772\\572023812.py:16: DeprecationWarning: The parameter \"ln\" is deprecated since v2.5.2. Instead of ln=0 use new_x=XPos.RIGHT, new_y=YPos.TOP.\n",
      "  self.cell(0, 10, f'Page {self.page_no()}', 0, 0, 'C')\n"
     ]
    },
    {
     "ename": "FPDFException",
     "evalue": "Not enough horizontal space to render a single character",
     "output_type": "error",
     "traceback": [
      "\u001b[1;31m---------------------------------------------------------------------------\u001b[0m",
      "\u001b[1;31mFPDFException\u001b[0m                             Traceback (most recent call last)",
      "Cell \u001b[1;32mIn[23], line 61\u001b[0m\n\u001b[0;32m     58\u001b[0m                 \u001b[38;5;28mprint\u001b[39m(\u001b[38;5;124mf\u001b[39m\u001b[38;5;124m\"\u001b[39m\u001b[38;5;124mConverted \u001b[39m\u001b[38;5;132;01m{\u001b[39;00mfile_path\u001b[38;5;132;01m}\u001b[39;00m\u001b[38;5;124m to \u001b[39m\u001b[38;5;132;01m{\u001b[39;00moutput_path\u001b[38;5;132;01m}\u001b[39;00m\u001b[38;5;124m\"\u001b[39m)\n\u001b[0;32m     60\u001b[0m \u001b[38;5;66;03m# Replace 'your_directory_path' with the path to the directory containing your C++ files\u001b[39;00m\n\u001b[1;32m---> 61\u001b[0m \u001b[43mfind_cpp_files_and_convert_to_pdf\u001b[49m\u001b[43m(\u001b[49m\u001b[38;5;124;43m'\u001b[39;49m\u001b[38;5;124;43m./Striver Sheet\u001b[39;49m\u001b[38;5;124;43m'\u001b[39;49m\u001b[43m)\u001b[49m\n",
      "Cell \u001b[1;32mIn[23], line 57\u001b[0m, in \u001b[0;36mfind_cpp_files_and_convert_to_pdf\u001b[1;34m(root_dir)\u001b[0m\n\u001b[0;32m     55\u001b[0m file_path \u001b[38;5;241m=\u001b[39m os\u001b[38;5;241m.\u001b[39mpath\u001b[38;5;241m.\u001b[39mjoin(subdir, file)\n\u001b[0;32m     56\u001b[0m output_path \u001b[38;5;241m=\u001b[39m file_path\u001b[38;5;241m.\u001b[39mreplace(\u001b[38;5;124m'\u001b[39m\u001b[38;5;124m.cpp\u001b[39m\u001b[38;5;124m'\u001b[39m, \u001b[38;5;124m'\u001b[39m\u001b[38;5;124m.pdf\u001b[39m\u001b[38;5;124m'\u001b[39m)\n\u001b[1;32m---> 57\u001b[0m \u001b[43mcreate_pdf_from_cpp\u001b[49m\u001b[43m(\u001b[49m\u001b[43mfile_path\u001b[49m\u001b[43m,\u001b[49m\u001b[43m \u001b[49m\u001b[43moutput_path\u001b[49m\u001b[43m)\u001b[49m\n\u001b[0;32m     58\u001b[0m \u001b[38;5;28mprint\u001b[39m(\u001b[38;5;124mf\u001b[39m\u001b[38;5;124m\"\u001b[39m\u001b[38;5;124mConverted \u001b[39m\u001b[38;5;132;01m{\u001b[39;00mfile_path\u001b[38;5;132;01m}\u001b[39;00m\u001b[38;5;124m to \u001b[39m\u001b[38;5;132;01m{\u001b[39;00moutput_path\u001b[38;5;132;01m}\u001b[39;00m\u001b[38;5;124m\"\u001b[39m)\n",
      "Cell \u001b[1;32mIn[23], line 45\u001b[0m, in \u001b[0;36mcreate_pdf_from_cpp\u001b[1;34m(file_path, output_path)\u001b[0m\n\u001b[0;32m     42\u001b[0m \u001b[38;5;28;01mfor\u001b[39;00m line \u001b[38;5;129;01min\u001b[39;00m lines:\n\u001b[0;32m     43\u001b[0m     \u001b[38;5;66;03m# Check if the line width exceeds available width\u001b[39;00m\n\u001b[0;32m     44\u001b[0m     \u001b[38;5;28;01mif\u001b[39;00m pdf\u001b[38;5;241m.\u001b[39mget_string_width(line) \u001b[38;5;241m>\u001b[39m pdf\u001b[38;5;241m.\u001b[39mw \u001b[38;5;241m-\u001b[39m \u001b[38;5;241m2\u001b[39m \u001b[38;5;241m*\u001b[39m pdf\u001b[38;5;241m.\u001b[39ml_margin:\n\u001b[1;32m---> 45\u001b[0m         \u001b[43mpdf\u001b[49m\u001b[38;5;241;43m.\u001b[39;49m\u001b[43mmulti_cell\u001b[49m\u001b[43m(\u001b[49m\u001b[38;5;241;43m0\u001b[39;49m\u001b[43m,\u001b[49m\u001b[43m \u001b[49m\u001b[38;5;241;43m10\u001b[39;49m\u001b[43m,\u001b[49m\u001b[43m \u001b[49m\u001b[43mline\u001b[49m\u001b[43m,\u001b[49m\u001b[43m \u001b[49m\u001b[43malign\u001b[49m\u001b[38;5;241;43m=\u001b[39;49m\u001b[38;5;124;43m'\u001b[39;49m\u001b[38;5;124;43mL\u001b[39;49m\u001b[38;5;124;43m'\u001b[39;49m\u001b[43m)\u001b[49m\n\u001b[0;32m     46\u001b[0m     \u001b[38;5;28;01melse\u001b[39;00m:\n\u001b[0;32m     47\u001b[0m         pdf\u001b[38;5;241m.\u001b[39mcell(\u001b[38;5;241m0\u001b[39m, \u001b[38;5;241m10\u001b[39m, line, ln\u001b[38;5;241m=\u001b[39m\u001b[38;5;28;01mTrue\u001b[39;00m)\n",
      "File \u001b[1;32md:\\Programs\\Python\\Python39\\lib\\site-packages\\fpdf\\fpdf.py:226\u001b[0m, in \u001b[0;36mcheck_page.<locals>.wrapper\u001b[1;34m(self, *args, **kwargs)\u001b[0m\n\u001b[0;32m    224\u001b[0m \u001b[38;5;28;01mif\u001b[39;00m \u001b[38;5;129;01mnot\u001b[39;00m \u001b[38;5;28mself\u001b[39m\u001b[38;5;241m.\u001b[39mpage \u001b[38;5;129;01mand\u001b[39;00m \u001b[38;5;129;01mnot\u001b[39;00m (kwargs\u001b[38;5;241m.\u001b[39mget(\u001b[38;5;124m\"\u001b[39m\u001b[38;5;124mdry_run\u001b[39m\u001b[38;5;124m\"\u001b[39m) \u001b[38;5;129;01mor\u001b[39;00m kwargs\u001b[38;5;241m.\u001b[39mget(\u001b[38;5;124m\"\u001b[39m\u001b[38;5;124msplit_only\u001b[39m\u001b[38;5;124m\"\u001b[39m)):\n\u001b[0;32m    225\u001b[0m     \u001b[38;5;28;01mraise\u001b[39;00m FPDFException(\u001b[38;5;124m\"\u001b[39m\u001b[38;5;124mNo page open, you need to call add_page() first\u001b[39m\u001b[38;5;124m\"\u001b[39m)\n\u001b[1;32m--> 226\u001b[0m \u001b[38;5;28;01mreturn\u001b[39;00m fn(\u001b[38;5;28mself\u001b[39m, \u001b[38;5;241m*\u001b[39margs, \u001b[38;5;241m*\u001b[39m\u001b[38;5;241m*\u001b[39mkwargs)\n",
      "File \u001b[1;32md:\\Programs\\Python\\Python39\\lib\\site-packages\\fpdf\\deprecation.py:32\u001b[0m, in \u001b[0;36msupport_deprecated_txt_arg.<locals>.wrapper\u001b[1;34m(self, *args, **kwargs)\u001b[0m\n\u001b[0;32m     26\u001b[0m     kwargs[\u001b[38;5;124m\"\u001b[39m\u001b[38;5;124mtext\u001b[39m\u001b[38;5;124m\"\u001b[39m] \u001b[38;5;241m=\u001b[39m txt_value\n\u001b[0;32m     27\u001b[0m     warnings\u001b[38;5;241m.\u001b[39mwarn(\n\u001b[0;32m     28\u001b[0m         \u001b[38;5;124m'\u001b[39m\u001b[38;5;124mThe parameter \u001b[39m\u001b[38;5;124m\"\u001b[39m\u001b[38;5;124mtxt\u001b[39m\u001b[38;5;124m\"\u001b[39m\u001b[38;5;124m has been renamed to \u001b[39m\u001b[38;5;124m\"\u001b[39m\u001b[38;5;124mtext\u001b[39m\u001b[38;5;124m\"\u001b[39m\u001b[38;5;124m in 2.7.6\u001b[39m\u001b[38;5;124m'\u001b[39m,\n\u001b[0;32m     29\u001b[0m         \u001b[38;5;167;01mDeprecationWarning\u001b[39;00m,\n\u001b[0;32m     30\u001b[0m         stacklevel\u001b[38;5;241m=\u001b[39mget_stack_level(),\n\u001b[0;32m     31\u001b[0m     )\n\u001b[1;32m---> 32\u001b[0m \u001b[38;5;28;01mreturn\u001b[39;00m fn(\u001b[38;5;28mself\u001b[39m, \u001b[38;5;241m*\u001b[39margs, \u001b[38;5;241m*\u001b[39m\u001b[38;5;241m*\u001b[39mkwargs)\n",
      "File \u001b[1;32md:\\Programs\\Python\\Python39\\lib\\site-packages\\fpdf\\fpdf.py:3675\u001b[0m, in \u001b[0;36mFPDF.multi_cell\u001b[1;34m(self, w, h, text, border, align, fill, split_only, link, ln, max_line_height, markdown, print_sh, new_x, new_y, wrapmode, dry_run, output, center, padding)\u001b[0m\n\u001b[0;32m   3673\u001b[0m \u001b[38;5;28;01mwhile\u001b[39;00m (text_line) \u001b[38;5;129;01mis\u001b[39;00m \u001b[38;5;129;01mnot\u001b[39;00m \u001b[38;5;28;01mNone\u001b[39;00m:\n\u001b[0;32m   3674\u001b[0m     text_lines\u001b[38;5;241m.\u001b[39mappend(text_line)\n\u001b[1;32m-> 3675\u001b[0m     text_line \u001b[38;5;241m=\u001b[39m \u001b[43mmulti_line_break\u001b[49m\u001b[38;5;241;43m.\u001b[39;49m\u001b[43mget_line\u001b[49m\u001b[43m(\u001b[49m\u001b[43m)\u001b[49m\n\u001b[0;32m   3677\u001b[0m \u001b[38;5;28;01mif\u001b[39;00m \u001b[38;5;129;01mnot\u001b[39;00m text_lines:  \u001b[38;5;66;03m# ensure we display at least one cell - cf. issue #349\u001b[39;00m\n\u001b[0;32m   3678\u001b[0m     text_lines \u001b[38;5;241m=\u001b[39m [\n\u001b[0;32m   3679\u001b[0m         TextLine(\n\u001b[0;32m   3680\u001b[0m             \u001b[38;5;124m\"\u001b[39m\u001b[38;5;124m\"\u001b[39m,\n\u001b[1;32m   (...)\u001b[0m\n\u001b[0;32m   3687\u001b[0m         )\n\u001b[0;32m   3688\u001b[0m     ]\n",
      "File \u001b[1;32md:\\Programs\\Python\\Python39\\lib\\site-packages\\fpdf\\line_break.py:688\u001b[0m, in \u001b[0;36mMultiLineBreak.get_line\u001b[1;34m(self)\u001b[0m\n\u001b[0;32m    686\u001b[0m     \u001b[38;5;28;01mreturn\u001b[39;00m line\n\u001b[0;32m    687\u001b[0m \u001b[38;5;28;01mif\u001b[39;00m idx_last_forced_break \u001b[38;5;241m==\u001b[39m \u001b[38;5;28mself\u001b[39m\u001b[38;5;241m.\u001b[39mcharacter_index:\n\u001b[1;32m--> 688\u001b[0m     \u001b[38;5;28;01mraise\u001b[39;00m FPDFException(\n\u001b[0;32m    689\u001b[0m         \u001b[38;5;124m\"\u001b[39m\u001b[38;5;124mNot enough horizontal space to render a single character\u001b[39m\u001b[38;5;124m\"\u001b[39m\n\u001b[0;32m    690\u001b[0m     )\n\u001b[0;32m    691\u001b[0m \u001b[38;5;28mself\u001b[39m\u001b[38;5;241m.\u001b[39midx_last_forced_break \u001b[38;5;241m=\u001b[39m \u001b[38;5;28mself\u001b[39m\u001b[38;5;241m.\u001b[39mcharacter_index\n\u001b[0;32m    692\u001b[0m \u001b[38;5;28;01mreturn\u001b[39;00m current_line\u001b[38;5;241m.\u001b[39mmanual_break(\n\u001b[0;32m    693\u001b[0m     Align\u001b[38;5;241m.\u001b[39mL \u001b[38;5;28;01mif\u001b[39;00m \u001b[38;5;28mself\u001b[39m\u001b[38;5;241m.\u001b[39malign \u001b[38;5;241m==\u001b[39m Align\u001b[38;5;241m.\u001b[39mJ \u001b[38;5;28;01melse\u001b[39;00m \u001b[38;5;28mself\u001b[39m\u001b[38;5;241m.\u001b[39malign\n\u001b[0;32m    694\u001b[0m )\n",
      "\u001b[1;31mFPDFException\u001b[0m: Not enough horizontal space to render a single character"
     ]
    }
   ],
   "source": [
    "import os\n",
    "from pygments import highlight\n",
    "from pygments.lexers import CppLexer\n",
    "from pygments.formatters import LatexFormatter\n",
    "from fpdf import FPDF\n",
    "import codecs\n",
    "\n",
    "class PDF(FPDF):\n",
    "    def header(self):\n",
    "        self.set_font(\"FreeSans\", '', 12)  # Use FreeSans font here\n",
    "        self.cell(0, 10, \"C++ Source Code\", 0, 1, 'C')\n",
    "        \n",
    "    def footer(self):\n",
    "        self.set_y(-15)\n",
    "        self.set_font(\"FreeSans\", 'I', 8)  # Use FreeSans font here\n",
    "        self.cell(0, 10, f'Page {self.page_no()}', 0, 0, 'C')\n",
    "\n",
    "def create_pdf_from_cpp(file_path, output_path):\n",
    "    # Read the C++ file with proper encoding\n",
    "    with codecs.open(file_path, 'r', encoding='utf-8', errors='ignore') as file:\n",
    "        cpp_code = file.read()\n",
    "    \n",
    "    # Syntax highlight the C++ code\n",
    "    formatter = LatexFormatter()\n",
    "    highlighted_code = highlight(cpp_code, CppLexer(), formatter)\n",
    "    \n",
    "    # Convert highlighted code to PDF\n",
    "    pdf = PDF()\n",
    "    pdf.add_font(\"FreeSans\", '', 'FreeSans.otf', uni=True)\n",
    "    pdf.add_font(\"FreeSans\", 'B', 'FreeSansBold.otf', uni=True)\n",
    "    pdf.add_font(\"FreeSans\", 'I', 'FreeSansOblique.otf', uni=True)\n",
    "    pdf.add_font(\"FreeSans\", 'BI', 'FreeSansBoldOblique.otf', uni=True)\n",
    "\n",
    "    pdf.add_page()\n",
    "    pdf.set_auto_page_break(auto=True, margin=15)\n",
    "    \n",
    "    # Set FreeSans as the default font\n",
    "    pdf.set_font(\"FreeSans\", size=10)\n",
    "    \n",
    "    # Split the highlighted code into lines and add to PDF\n",
    "    lines = highlighted_code.splitlines()\n",
    "    for line in lines:\n",
    "        # Check if the line width exceeds available width\n",
    "        if pdf.get_string_width(line) > pdf.w - 2 * pdf.l_margin:\n",
    "            pdf.multi_cell(0, 10, line, align='L')\n",
    "        else:\n",
    "            pdf.cell(0, 10, line, ln=True)\n",
    "    \n",
    "    pdf.output(output_path)\n",
    "\n",
    "def find_cpp_files_and_convert_to_pdf(root_dir):\n",
    "    for subdir, _, files in os.walk(root_dir):\n",
    "        for file in files:\n",
    "            if file.endswith('.cpp'):\n",
    "                file_path = os.path.join(subdir, file)\n",
    "                output_path = file_path.replace('.cpp', '.pdf')\n",
    "                create_pdf_from_cpp(file_path, output_path)\n",
    "                print(f\"Converted {file_path} to {output_path}\")\n",
    "\n",
    "# Replace 'your_directory_path' with the path to the directory containing your C++ files\n",
    "find_cpp_files_and_convert_to_pdf('./Striver Sheet')\n"
   ]
  }
 ],
 "metadata": {
  "kernelspec": {
   "display_name": "Python 3",
   "language": "python",
   "name": "python3"
  },
  "language_info": {
   "codemirror_mode": {
    "name": "ipython",
    "version": 3
   },
   "file_extension": ".py",
   "mimetype": "text/x-python",
   "name": "python",
   "nbconvert_exporter": "python",
   "pygments_lexer": "ipython3",
   "version": "3.9.4"
  }
 },
 "nbformat": 4,
 "nbformat_minor": 2
}
